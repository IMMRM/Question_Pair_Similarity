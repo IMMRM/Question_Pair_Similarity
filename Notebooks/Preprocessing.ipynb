{
 "cells": [
  {
   "cell_type": "markdown",
   "metadata": {},
   "source": [
    "# Pre-Processing of data"
   ]
  },
  {
   "cell_type": "code",
   "execution_count": 1,
   "metadata": {},
   "outputs": [
    {
     "name": "stderr",
     "output_type": "stream",
     "text": [
      "[nltk_data] Downloading package stopwords to\n",
      "[nltk_data]     C:\\Users\\asus\\AppData\\Roaming\\nltk_data...\n",
      "[nltk_data]   Package stopwords is already up-to-date!\n"
     ]
    }
   ],
   "source": [
    "#importing the required libraries\n",
    "import pandas as pd\n",
    "from sklearn.feature_extraction.text import CountVectorizer \n",
    "from sklearn.model_selection import train_test_split\n",
    "import numpy as np\n",
    "from sklearn.linear_model import LogisticRegression\n",
    "from sklearn.metrics import accuracy_score\n",
    "import re\n",
    "import nltk.corpus\n",
    "nltk.download('stopwords')\n",
    "from nltk.corpus import stopwords\n",
    "stop=stopwords.words('english')\n",
    "from nltk.stem.porter import PorterStemmer\n",
    "from bs4 import BeautifulSoup\n"
   ]
  },
  {
   "cell_type": "code",
   "execution_count": 2,
   "metadata": {},
   "outputs": [],
   "source": [
    "data=pd.read_csv(r\"C:\\Users\\asus\\Documents\\Projects\\Question_Similarity_Pairs\\Input\\train.csv\").sample(60000)"
   ]
  },
  {
   "cell_type": "code",
   "execution_count": 3,
   "metadata": {},
   "outputs": [
    {
     "data": {
      "text/html": [
       "<div>\n",
       "<style scoped>\n",
       "    .dataframe tbody tr th:only-of-type {\n",
       "        vertical-align: middle;\n",
       "    }\n",
       "\n",
       "    .dataframe tbody tr th {\n",
       "        vertical-align: top;\n",
       "    }\n",
       "\n",
       "    .dataframe thead th {\n",
       "        text-align: right;\n",
       "    }\n",
       "</style>\n",
       "<table border=\"1\" class=\"dataframe\">\n",
       "  <thead>\n",
       "    <tr style=\"text-align: right;\">\n",
       "      <th></th>\n",
       "      <th>id</th>\n",
       "      <th>qid1</th>\n",
       "      <th>qid2</th>\n",
       "      <th>question1</th>\n",
       "      <th>question2</th>\n",
       "      <th>is_duplicate</th>\n",
       "    </tr>\n",
       "  </thead>\n",
       "  <tbody>\n",
       "    <tr>\n",
       "      <th>217099</th>\n",
       "      <td>217099</td>\n",
       "      <td>323388</td>\n",
       "      <td>323389</td>\n",
       "      <td>How do I store a fingerprint in a browser?</td>\n",
       "      <td>Where should I store browser fingerprint?</td>\n",
       "      <td>0</td>\n",
       "    </tr>\n",
       "    <tr>\n",
       "      <th>296706</th>\n",
       "      <td>296706</td>\n",
       "      <td>268935</td>\n",
       "      <td>73790</td>\n",
       "      <td>Why people like dogs?</td>\n",
       "      <td>Why some people like dog?</td>\n",
       "      <td>1</td>\n",
       "    </tr>\n",
       "    <tr>\n",
       "      <th>237109</th>\n",
       "      <td>237109</td>\n",
       "      <td>226912</td>\n",
       "      <td>348198</td>\n",
       "      <td>Why do people choose to have children despite ...</td>\n",
       "      <td>Is it worthwhile bringing children into this w...</td>\n",
       "      <td>0</td>\n",
       "    </tr>\n",
       "    <tr>\n",
       "      <th>111142</th>\n",
       "      <td>111142</td>\n",
       "      <td>182115</td>\n",
       "      <td>182116</td>\n",
       "      <td>What are some advantages and disadvantages ofu...</td>\n",
       "      <td>What are the disadvantages of credit cards?</td>\n",
       "      <td>0</td>\n",
       "    </tr>\n",
       "    <tr>\n",
       "      <th>222983</th>\n",
       "      <td>222983</td>\n",
       "      <td>330686</td>\n",
       "      <td>330687</td>\n",
       "      <td>Are there minorities in the Hell's Angels?</td>\n",
       "      <td>How active are the Hell's Angels in Montréal?</td>\n",
       "      <td>0</td>\n",
       "    </tr>\n",
       "  </tbody>\n",
       "</table>\n",
       "</div>"
      ],
      "text/plain": [
       "            id    qid1    qid2  \\\n",
       "217099  217099  323388  323389   \n",
       "296706  296706  268935   73790   \n",
       "237109  237109  226912  348198   \n",
       "111142  111142  182115  182116   \n",
       "222983  222983  330686  330687   \n",
       "\n",
       "                                                question1  \\\n",
       "217099         How do I store a fingerprint in a browser?   \n",
       "296706                              Why people like dogs?   \n",
       "237109  Why do people choose to have children despite ...   \n",
       "111142  What are some advantages and disadvantages ofu...   \n",
       "222983         Are there minorities in the Hell's Angels?   \n",
       "\n",
       "                                                question2  is_duplicate  \n",
       "217099          Where should I store browser fingerprint?             0  \n",
       "296706                          Why some people like dog?             1  \n",
       "237109  Is it worthwhile bringing children into this w...             0  \n",
       "111142        What are the disadvantages of credit cards?             0  \n",
       "222983      How active are the Hell's Angels in Montréal?             0  "
      ]
     },
     "execution_count": 3,
     "metadata": {},
     "output_type": "execute_result"
    }
   ],
   "source": [
    "data.head(5)"
   ]
  },
  {
   "cell_type": "code",
   "execution_count": 4,
   "metadata": {},
   "outputs": [],
   "source": [
    "data.dropna(axis=0,subset=['question1','question2'],how='any',inplace=True)"
   ]
  },
  {
   "cell_type": "code",
   "execution_count": 5,
   "metadata": {},
   "outputs": [
    {
     "name": "stdout",
     "output_type": "stream",
     "text": [
      "Unique question in question_1: 54515\n",
      "Unique question in question_2: 54319\n",
      "Total % of Unique questions that we have in this corpus is : 0.9069651160852681\n"
     ]
    }
   ],
   "source": [
    "ques1_list=list(set(data['question1'].tolist()))\n",
    "ques2_list=list(set(data['question2'].tolist()))\n",
    "print(\"Unique question in question_1:\",len(ques1_list))\n",
    "print(\"Unique question in question_2:\", len(ques2_list))\n",
    "fin_list=ques1_list+ques2_list\n",
    "print(\"Total % of Unique questions that we have in this corpus is :\",len(fin_list)/(2*data.id.count()))"
   ]
  },
  {
   "cell_type": "code",
   "execution_count": 6,
   "metadata": {},
   "outputs": [],
   "source": [
    "def pre_process(x):\n",
    "    #Normalization\n",
    "    x=str(x).lower()\n",
    "    #Removing Contraction\n",
    "    x=x.replace(\"000,000\",\"m\").replace(\"000\",\"k\").replace(\"won't\",\"will not\").replace(\"can't\",\"cannot\").replace(\"shouldn't\",\"should not\")\\\n",
    "        .replace(\"didn't\",\"did not\").replace(\"doesn't\",\"does not\").replace(\"couldn't\",\"could not\").replace(\"ll\",\"will\").replace(\"%\",\"percent\")\\\n",
    "            .replace(\"$\",\"dollar\").replace(\"he's\",\"he is\").replace(\"he's\",\"he is\").replace(\"wouldn't\",\"would not\")\n",
    "    #Removeing Unicode Characters\n",
    "    x=re.sub(r\"(@\\[A-Za-z0-9]+)|([^0-9A-Za-z \\t])|(\\w+:\\/\\/\\S+)|^rt|http.+?\", \"\",x)\n",
    "    #Removing Stopwords\n",
    "    text=[word for word in x.split() if word  not in (stop)]\n",
    "    #Stemming\n",
    "    stemmer=PorterStemmer()\n",
    "    text=\" \".join([stemmer.stem(word) for word in text])\n",
    "    #removing HTML tags\n",
    "    bs4=BeautifulSoup(text)\n",
    "    text=bs4.get_text()\n",
    "    text=text.strip()\n",
    "    return text\n",
    "\n",
    "\n",
    "    \n",
    "    \n"
   ]
  },
  {
   "cell_type": "code",
   "execution_count": 7,
   "metadata": {},
   "outputs": [],
   "source": [
    "def cleaning(val):\n",
    "    return data[val].apply(pre_process)\n",
    "\n",
    "data['question1']=cleaning('question1')\n",
    "data['question2']=cleaning('question2')\n",
    "\n",
    "    "
   ]
  },
  {
   "cell_type": "code",
   "execution_count": 8,
   "metadata": {},
   "outputs": [
    {
     "data": {
      "text/html": [
       "<div>\n",
       "<style scoped>\n",
       "    .dataframe tbody tr th:only-of-type {\n",
       "        vertical-align: middle;\n",
       "    }\n",
       "\n",
       "    .dataframe tbody tr th {\n",
       "        vertical-align: top;\n",
       "    }\n",
       "\n",
       "    .dataframe thead th {\n",
       "        text-align: right;\n",
       "    }\n",
       "</style>\n",
       "<table border=\"1\" class=\"dataframe\">\n",
       "  <thead>\n",
       "    <tr style=\"text-align: right;\">\n",
       "      <th></th>\n",
       "      <th>id</th>\n",
       "      <th>qid1</th>\n",
       "      <th>qid2</th>\n",
       "      <th>question1</th>\n",
       "      <th>question2</th>\n",
       "      <th>is_duplicate</th>\n",
       "    </tr>\n",
       "  </thead>\n",
       "  <tbody>\n",
       "    <tr>\n",
       "      <th>217099</th>\n",
       "      <td>217099</td>\n",
       "      <td>323388</td>\n",
       "      <td>323389</td>\n",
       "      <td>store fingerprint browser</td>\n",
       "      <td>store browser fingerprint</td>\n",
       "      <td>0</td>\n",
       "    </tr>\n",
       "    <tr>\n",
       "      <th>296706</th>\n",
       "      <td>296706</td>\n",
       "      <td>268935</td>\n",
       "      <td>73790</td>\n",
       "      <td>peopl like dog</td>\n",
       "      <td>peopl like dog</td>\n",
       "      <td>1</td>\n",
       "    </tr>\n",
       "    <tr>\n",
       "      <th>237109</th>\n",
       "      <td>237109</td>\n",
       "      <td>226912</td>\n",
       "      <td>348198</td>\n",
       "      <td>peopl choos children despit world live</td>\n",
       "      <td>worthwhil bring children world given statist r...</td>\n",
       "      <td>0</td>\n",
       "    </tr>\n",
       "    <tr>\n",
       "      <th>111142</th>\n",
       "      <td>111142</td>\n",
       "      <td>182115</td>\n",
       "      <td>182116</td>\n",
       "      <td>advantag disadvantag ofupgrad credit card</td>\n",
       "      <td>disadvantag credit card</td>\n",
       "      <td>0</td>\n",
       "    </tr>\n",
       "    <tr>\n",
       "      <th>222983</th>\n",
       "      <td>222983</td>\n",
       "      <td>330686</td>\n",
       "      <td>330687</td>\n",
       "      <td>minor hewil angel</td>\n",
       "      <td>activ hewil angel montral</td>\n",
       "      <td>0</td>\n",
       "    </tr>\n",
       "    <tr>\n",
       "      <th>293777</th>\n",
       "      <td>293777</td>\n",
       "      <td>84905</td>\n",
       "      <td>147614</td>\n",
       "      <td>increas type speed fast</td>\n",
       "      <td>increas type accuraci speed</td>\n",
       "      <td>0</td>\n",
       "    </tr>\n",
       "    <tr>\n",
       "      <th>41435</th>\n",
       "      <td>41435</td>\n",
       "      <td>74814</td>\n",
       "      <td>74815</td>\n",
       "      <td>anim better death note code geass</td>\n",
       "      <td>better anim death note code geass</td>\n",
       "      <td>1</td>\n",
       "    </tr>\n",
       "    <tr>\n",
       "      <th>14447</th>\n",
       "      <td>14447</td>\n",
       "      <td>27667</td>\n",
       "      <td>27668</td>\n",
       "      <td>peopl think theyr attract</td>\n",
       "      <td>unattract peopl think attract overestim attract</td>\n",
       "      <td>1</td>\n",
       "    </tr>\n",
       "    <tr>\n",
       "      <th>68358</th>\n",
       "      <td>68358</td>\n",
       "      <td>118149</td>\n",
       "      <td>118150</td>\n",
       "      <td>rank score criteria use tc codevita season iv</td>\n",
       "      <td>rank score criteria use tc codevita season v</td>\n",
       "      <td>0</td>\n",
       "    </tr>\n",
       "    <tr>\n",
       "      <th>274849</th>\n",
       "      <td>274849</td>\n",
       "      <td>393527</td>\n",
       "      <td>393528</td>\n",
       "      <td>bad take one men daili multivitamin one day</td>\n",
       "      <td>take one pack multivitamin without doctor advic</td>\n",
       "      <td>0</td>\n",
       "    </tr>\n",
       "  </tbody>\n",
       "</table>\n",
       "</div>"
      ],
      "text/plain": [
       "            id    qid1    qid2                                      question1  \\\n",
       "217099  217099  323388  323389                      store fingerprint browser   \n",
       "296706  296706  268935   73790                                 peopl like dog   \n",
       "237109  237109  226912  348198         peopl choos children despit world live   \n",
       "111142  111142  182115  182116      advantag disadvantag ofupgrad credit card   \n",
       "222983  222983  330686  330687                              minor hewil angel   \n",
       "293777  293777   84905  147614                        increas type speed fast   \n",
       "41435    41435   74814   74815              anim better death note code geass   \n",
       "14447    14447   27667   27668                      peopl think theyr attract   \n",
       "68358    68358  118149  118150  rank score criteria use tc codevita season iv   \n",
       "274849  274849  393527  393528    bad take one men daili multivitamin one day   \n",
       "\n",
       "                                                question2  is_duplicate  \n",
       "217099                          store browser fingerprint             0  \n",
       "296706                                     peopl like dog             1  \n",
       "237109  worthwhil bring children world given statist r...             0  \n",
       "111142                            disadvantag credit card             0  \n",
       "222983                          activ hewil angel montral             0  \n",
       "293777                        increas type accuraci speed             0  \n",
       "41435                   better anim death note code geass             1  \n",
       "14447     unattract peopl think attract overestim attract             1  \n",
       "68358        rank score criteria use tc codevita season v             0  \n",
       "274849    take one pack multivitamin without doctor advic             0  "
      ]
     },
     "execution_count": 8,
     "metadata": {},
     "output_type": "execute_result"
    }
   ],
   "source": [
    "data.head(10)"
   ]
  },
  {
   "cell_type": "code",
   "execution_count": 9,
   "metadata": {},
   "outputs": [],
   "source": [
    "data.to_csv(r\"C:\\Users\\asus\\Documents\\Projects\\Question_Similarity_Pairs\\Input\\preprocessed_data.csv\",index=False)"
   ]
  },
  {
   "cell_type": "code",
   "execution_count": null,
   "metadata": {},
   "outputs": [],
   "source": []
  }
 ],
 "metadata": {
  "kernelspec": {
   "display_name": "Python 3.9.15 ('Quora')",
   "language": "python",
   "name": "python3"
  },
  "language_info": {
   "codemirror_mode": {
    "name": "ipython",
    "version": 3
   },
   "file_extension": ".py",
   "mimetype": "text/x-python",
   "name": "python",
   "nbconvert_exporter": "python",
   "pygments_lexer": "ipython3",
   "version": "3.9.15 (main, Nov  4 2022, 16:35:55) [MSC v.1916 64 bit (AMD64)]"
  },
  "orig_nbformat": 4,
  "vscode": {
   "interpreter": {
    "hash": "245ca5a644677b03203e6e62d5d083acc7811004f9d0f9734996e35c801ca6b8"
   }
  }
 },
 "nbformat": 4,
 "nbformat_minor": 2
}
